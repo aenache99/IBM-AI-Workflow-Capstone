{
 "cells": [
  {
   "cell_type": "markdown",
   "source": [
    "## Import the needed libraries"
   ],
   "metadata": {
    "collapsed": false
   },
   "id": "8401e77bde7a4a0b"
  },
  {
   "cell_type": "code",
   "execution_count": null,
   "outputs": [],
   "source": [
    "import pandas as pd\n",
    "import numpy as np\n",
    "import matplotlib.pyplot as plt\n",
    "import os\n",
    "import seaborn as sns\n",
    "\n",
    "from solution_guidance.cslib import fetch_data, convert_to_ts"
   ],
   "metadata": {
    "collapsed": false
   },
   "id": "b22b006058fadc0c"
  },
  {
   "cell_type": "markdown",
   "source": [
    "## Import the data"
   ],
   "metadata": {
    "collapsed": false
   },
   "id": "cf1ac61f2445c461"
  },
  {
   "cell_type": "code",
   "execution_count": null,
   "outputs": [],
   "source": [
    "def return_all_data(path):\n",
    "    files_list = [path + '/' + fname for fname in os.listdir(path)]\n",
    "    \n",
    "    list_frame = []\n",
    "    \n",
    "    for f in files_list:\n",
    "        df_temp = pd.read_json(f)\n",
    "        \n",
    "        cols = set(df_temp.columns.tolist())\n",
    "        \n",
    "        if 'StreamID' in cols:\n",
    "            df_temp.rename(columns={'StreamID':'stream_id'},inplace=True)\n",
    "        if 'TimesViewed' in cols:\n",
    "            df_temp.rename(columns={'TimesViewed':'times_viewed'},inplace=True)\n",
    "        if 'total_price' in cols:\n",
    "            df_temp.rename(columns={'total_price':'price'},inplace=True)\n",
    "            \n",
    "        list_frame.append(df_temp)\n",
    "        \n",
    "        \n",
    "    df = pd.concat(list_frame)\n",
    "    \n",
    "    years, months, days = df['year'].values,df['month'].values,df['day'].values \n",
    "    dates = [\"{}-{}-{}\".format(years[i],str(months[i]).zfill(2),str(days[i]).zfill(2)) for i in range(df.shape[0])]\n",
    "    df['invoice_date'] = np.array(dates,dtype='datetime64[D]')\n",
    "    \n",
    "    return df\n",
    "\n",
    "df = return_all_data('cs-train')"
   ],
   "metadata": {
    "collapsed": false
   },
   "id": "4c967b96ef16179d"
  },
  {
   "cell_type": "code",
   "execution_count": null,
   "outputs": [],
   "source": [
    "df"
   ],
   "metadata": {
    "collapsed": false
   },
   "id": "2418261ca7f15649"
  },
  {
   "cell_type": "code",
   "execution_count": null,
   "outputs": [],
   "source": [
    "df.columns"
   ],
   "metadata": {
    "collapsed": false
   },
   "id": "a754e06d077b2b7e"
  },
  {
   "cell_type": "code",
   "execution_count": null,
   "outputs": [],
   "source": [
    "df['country'].unique()"
   ],
   "metadata": {
    "collapsed": false
   },
   "id": "1f45e02a0b06bf5b"
  },
  {
   "cell_type": "code",
   "execution_count": null,
   "outputs": [],
   "source": [
    "df.head(1)"
   ],
   "metadata": {
    "collapsed": false
   },
   "id": "20ae139c2003bd5b"
  },
  {
   "cell_type": "markdown",
   "source": [],
   "metadata": {
    "collapsed": false
   },
   "id": "1b8cfbe222479bf7"
  },
  {
   "cell_type": "code",
   "execution_count": null,
   "outputs": [],
   "source": [
    "df['invoice'].value_conts()"
   ],
   "metadata": {
    "collapsed": false
   },
   "id": "4da6596127c79098"
  },
  {
   "cell_type": "code",
   "execution_count": null,
   "outputs": [],
   "source": [
    "df_grouped_by_country = df[df['country'] == 'United Kingdom'].groupby(['stream_id']).sum()[['times_viewed', 'price']]\n",
    "#pltdf_grouped_by_country\n",
    "df_grouped_by_country"
   ],
   "metadata": {
    "collapsed": false
   },
   "id": "1a2d5626ca925d55"
  },
  {
   "cell_type": "code",
   "execution_count": null,
   "outputs": [],
   "source": [
    "plt.figure(figsize=(15,10))\n",
    "plt.title('Scatterplot: Price X Times Viewed. Only United Kingdom')\n",
    "\n",
    "plt.scatter(df_grouped_by_country['price'], df_grouped_by_country['times_viewed'], s=6, alpha=0.1)\n",
    "plt.xlabel('Price')\n",
    "plt.ylabel('Times Viewed')\n",
    "print('Max Value PRICE: {}'.format(df_grouped_by_country['price'].max()))\n",
    "print('Max Value Times Viewed: {}'.format(df_grouped_by_country['price'].max()))"
   ],
   "metadata": {
    "collapsed": false
   },
   "id": "4dbd0fc201845dff"
  },
  {
   "cell_type": "code",
   "execution_count": null,
   "outputs": [],
   "source": [
    "new_df = df_grouped_by_country[df_grouped_by_country['price'] < 10000]\n",
    "new_df = new_df[new_df['price'] > 0]"
   ],
   "metadata": {
    "collapsed": false
   },
   "id": "18718d57879a22f1"
  },
  {
   "cell_type": "code",
   "execution_count": null,
   "outputs": [],
   "source": [
    "plt.figure(figsize=(15,10))\n",
    "plt.title('Scatter Plot: Price X Times Viewed. Only United Kingdom. Removed visible outlier')\n",
    "\n",
    "plt.scatter(new_df['price'], new_df['times_viewed'], s=6, alpha=0.3)\n",
    "plt.xlabel('Price')\n",
    "plt.ylabel('Times Viewed')\n",
    "plt.plot()\n",
    "print('Max Value PRICE: {}'.format(new_df['price'].max()))\n",
    "print('Max Value Times Viewed: {}'.format(new_df['price'].max()))"
   ],
   "metadata": {
    "collapsed": false
   },
   "id": "66e1e59f882d355e"
  },
  {
   "cell_type": "code",
   "execution_count": null,
   "outputs": [],
   "source": [
    "from sklearn.cluster import KMeans\n",
    "X = new_df.values\n",
    "\n",
    "kmeans = KMeans(n_clusters=7)\n",
    "\n",
    "kmeans.fit_predict(X)\n",
    "new_df['cluster'] = kmeans.fit_predict(X)\n",
    "new_df['cluster'].unique()"
   ],
   "metadata": {
    "collapsed": false
   },
   "id": "7236654a275e251e"
  },
  {
   "cell_type": "code",
   "execution_count": null,
   "outputs": [],
   "source": [
    "plt.figure(figsize=(15,10))\n",
    "plt.title('Scatterplot: Price X Times Viewed. Only United Kingdom. Removed visible outlier')\n",
    "\n",
    "for i in new_df['cluster'].unique():\n",
    "    plt.scatter(new_df[new_df['cluster'] == i]['price'], new_df[new_df['cluster'] == i]['times_viewed'], s=6, alpha=0.6, label='Cluster {}'.format(i))\n",
    "\n",
    "\n",
    "plt.xlabel('Price')\n",
    "plt.ylabel('Times Viewed')\n",
    "plt.legend()\n",
    "plt.plot()"
   ],
   "metadata": {
    "collapsed": false
   },
   "id": "ef522948adbb46dd"
  },
  {
   "cell_type": "markdown",
   "source": [
    "# Part 2"
   ],
   "metadata": {
    "collapsed": false
   },
   "id": "f71af4f4893f080d"
  },
  {
   "cell_type": "code",
   "execution_count": null,
   "outputs": [],
   "source": [
    "from statsmodels.tsa.seasonal import seasonal_decompose\n",
    "\n",
    "def create_ts_by_df(ds, ):\n",
    "    print(ds.country.unique())\n",
    "    start_month = '{}-{}'.format(ds['year'].values[0],str(ds['month'].values[0]).zfill(2))\n",
    "    stop_month = '{}-{}'.format(ds['year'].values[-1],str(ds['month'].values[-1]).zfill(2))\n",
    "    all_days_ts = np.arange(start_month, stop_month, dtype='datetime64[D]')\n",
    "    dates = df['invoice_date'].values.astype('datetime64[D]')\n",
    "    \n",
    "    list_ts = []\n",
    "    \n",
    "    for day in all_days_ts:\n",
    "        count_purchases = np.where(dates==day)[0].size\n",
    "        count_invoices_diff = np.unique(ds[dates==day]['invoice'].values).size\n",
    "        count_streams_diff = np.unique(ds[dates==day]['stream_id'].values).size\n",
    "        sum_views =  ds[dates==day]['times_viewed'].values.sum()\n",
    "        sum_price_revenue = ds[dates==day]['price'].values.sum()\n",
    "        \n",
    "        obj_monted = {\n",
    "                        'date': day,\n",
    "                        'total_invoice': count_invoices_diff,\n",
    "                        'purchase': count_purchases,\n",
    "                        'total_streams': count_streams_diff,\n",
    "                        'total_views': sum_views,\n",
    "                        'revenue': sum_price_revenue\n",
    "                     }\n",
    "        \n",
    "        list_ts.append(obj_monted)\n",
    "        \n",
    "    \n",
    "    return pd.DataFrame(data=list_ts)\n",
    "\n",
    "def plot_df(x, y, title=\"\", xlabel='Date', ylabel='Value', dpi=100):\n",
    "    plt.figure(figsize=(16,5), dpi=dpi)\n",
    "    plt.plot(x, y, color='tab:red', linewidth=1)\n",
    "    plt.gca().set(title=title, xlabel=xlabel, ylabel=ylabel)\n",
    "    plt.show()\n",
    "\n",
    "def plot_decomposed_timeserie(ts, freq = 12, title=''):\n",
    "    \n",
    "    fig, axs = plt.subplots(4,1,figsize=(15,15))\n",
    "    fig.suptitle(title)\n",
    "    \n",
    "    \n",
    "    decomposed = seasonal_decompose(ts, freq = freq)\n",
    "    \n",
    "    trend = decomposed.trend\n",
    "    seasonal = decomposed.seasonal\n",
    "    random = decomposed.resid\n",
    "    \n",
    "    \n",
    "    axs[0].set_title('Original')\n",
    "    axs[0].plot(ts,label='Original')\n",
    "    \n",
    "    axs[1].set_title('Trend')\n",
    "    axs[1].plot(trend, label= 'Trend')\n",
    "    \n",
    "    axs[2].set_title('Seasonality')\n",
    "    axs[2].plot(seasonal, label='Seasonality')\n",
    "    \n",
    "    axs[3].set_title('Random')\n",
    "    axs[3].plot(random, label='Random')\n",
    "    \n",
    "    plt.tight_layout()\n",
    "    plt.show()"
   ],
   "metadata": {
    "collapsed": false
   },
   "id": "fb7a92eec4ba0bb3"
  },
  {
   "cell_type": "code",
   "execution_count": null,
   "outputs": [],
   "source": [
    "ts_uk = create_ts_by_df(df)"
   ],
   "metadata": {
    "collapsed": false
   },
   "id": "10c867840923698b"
  },
  {
   "cell_type": "code",
   "execution_count": null,
   "outputs": [],
   "source": [
    "print(ts_uk['country'])\n",
    "plot_df(ts_uk['date'],ts_uk['revenue'], 'Revenue Arround Time','Date', 'Revenue')\n",
    "ts_uk"
   ],
   "metadata": {
    "collapsed": false
   },
   "id": "e650901ad0783077"
  },
  {
   "cell_type": "markdown",
   "source": [
    "# Time Series Analysis"
   ],
   "metadata": {
    "collapsed": false
   },
   "id": "2bc5a351de9e0bf2"
  },
  {
   "cell_type": "code",
   "execution_count": null,
   "outputs": [],
   "source": [
    "plot_decomposed_timeserie(ts_uk['revenue'])\n",
    "print('The revenue series has strong trend, but there is no seasonality')"
   ],
   "metadata": {
    "collapsed": false
   },
   "id": "622d1ffb3032c7a1"
  },
  {
   "cell_type": "markdown",
   "source": [
    "# Creating the LSTM Model"
   ],
   "metadata": {
    "collapsed": false
   },
   "id": "7994c504715acc4a"
  },
  {
   "cell_type": "code",
   "execution_count": null,
   "outputs": [],
   "source": [
    "from keras.models import Sequential, Model\n",
    "from keras.layers import LSTM, Input, Activation, Dense, Dropout\n",
    "from sklearn.preprocessing import MinMaxScaler\n",
    "from keras.preprocessing.sequence import TimeseriesGenerator\n",
    "from statsmodels.tools.eval_measures import rmse, mse, meanabs\n",
    "\n",
    "def get_y_from_generator(gen):\n",
    "    \"\"\"\n",
    "    Get all targets y from a TimeseriesGenerator instance.\n",
    "    \"\"\"\n",
    "    y = None\n",
    "    for i in range(len(gen)):\n",
    "        batch_y = gen[i][1]\n",
    "        if y is None:\n",
    "            y = batch_y\n",
    "        else:\n",
    "            y = np.append(y, batch_y)\n",
    "    y = y.reshape((-1,1))\n",
    "    print(y.shape)\n",
    "    return y\n",
    "\n",
    "\n",
    "# input_shape=x_train.shape[-2:]\n",
    "\n",
    "def create_model_learning(input_shape):\n",
    "    \n",
    "    input = Input(input_shape)\n",
    "\n",
    "    x = LSTM(512, return_sequences=True)(input)\n",
    "    x = Activation('relu')(x)\n",
    "    \n",
    "    x = LSTM(256, return_sequences=False)(x)\n",
    "    x = Activation('relu')(x)\n",
    "    \n",
    "    x = Dropout(0.2)(x)\n",
    "    x = Dense(50)(x)\n",
    "    x = Activation('relu')(x)\n",
    "    \n",
    "    x = Dropout(0.1)(x)\n",
    "    x = Dense(1, name='output')(x)\n",
    "\n",
    "    model = Model(inputs = input, outputs = x, name='TimeSerieModel')\n",
    "    return model"
   ],
   "metadata": {
    "collapsed": false
   },
   "id": "9030bc0972fe5df"
  },
  {
   "cell_type": "code",
   "execution_count": null,
   "outputs": [],
   "source": [
    "ds = ts_uk[['revenue']]\n",
    "\n",
    "len_train = int(ds.shape[0] * 0.8) \n",
    "train = ds.iloc[:len_train]\n",
    "test = ds.iloc[len_train:]"
   ],
   "metadata": {
    "collapsed": false
   },
   "id": "30d3919f32af0b8f"
  },
  {
   "cell_type": "code",
   "execution_count": null,
   "outputs": [],
   "source": [
    "scaler = MinMaxScaler()\n",
    "scaler.fit(train)\n",
    "train = scaler.transform(train)\n",
    "test = scaler.transform(test)"
   ],
   "metadata": {
    "collapsed": false
   },
   "id": "9e17e537d8874d7f"
  },
  {
   "cell_type": "code",
   "execution_count": null,
   "outputs": [],
   "source": [
    "train_generator = TimeseriesGenerator(train, train, length=12, batch_size=6)\n",
    "model = create_model_learning((12, 1))\n",
    "model.compile(optimizer='adam', loss='mse')"
   ],
   "metadata": {
    "collapsed": false
   },
   "id": "d4d7df9e5f2de23f"
  },
  {
   "cell_type": "code",
   "execution_count": null,
   "outputs": [],
   "source": [
    "model.fit_generator(train_generator, epochs=70, verbose=1)"
   ],
   "metadata": {
    "collapsed": false
   },
   "id": "a0a3ae6d60f07cf4"
  },
  {
   "cell_type": "code",
   "execution_count": null,
   "outputs": [],
   "source": [
    "pred_list = []\n",
    "\n",
    "batch = train[-12:].reshape((1, 12, 1))\n",
    "\n",
    "for i in range(test.shape[0]):   \n",
    "    pred_list.append(model.predict(batch)[0]) \n",
    "    batch = np.append(batch[:,1:,:],[[pred_list[i]]],axis=1)\n",
    "    \n",
    "pred_list = np.asarray(pred_list)"
   ],
   "metadata": {
    "collapsed": false
   },
   "id": "b08a99ee1cf8438d"
  },
  {
   "cell_type": "code",
   "execution_count": null,
   "outputs": [],
   "source": [
    "df_predict = pd.DataFrame(scaler.inverse_transform(pred_list),\n",
    "                          index=ds[-len(pred_list):].index, columns=['Prediction'])\n",
    "\n",
    "df_test = pd.concat([ds,df_predict], axis=1)"
   ],
   "metadata": {
    "collapsed": false
   },
   "id": "1576013dae9bc804"
  },
  {
   "cell_type": "code",
   "execution_count": null,
   "outputs": [],
   "source": [
    "df_test"
   ],
   "metadata": {
    "collapsed": false
   },
   "id": "eb751ed652b042ba"
  },
  {
   "cell_type": "code",
   "execution_count": null,
   "outputs": [],
   "source": [
    "plt.figure(figsize=(20, 5))\n",
    "plt.plot(df_test.index, df_test['revenue'])\n",
    "plt.plot(df_test.index, df_test['Prediction'], color='r')\n",
    "plt.legend(loc='best', fontsize='xx-large')\n",
    "plt.xticks(fontsize=18)\n",
    "plt.yticks(fontsize=16)\n",
    "plt.show()"
   ],
   "metadata": {
    "collapsed": false
   },
   "id": "41c1ca8a7a2a7925"
  },
  {
   "cell_type": "code",
   "execution_count": null,
   "outputs": [],
   "source": [
    "def MAPE(y_true, y_pred):\n",
    "    return np.mean(np.abs((y_true - y_pred) / y_true)) * 100\n",
    "\n",
    "y_test = df_test.iloc[-test.shape[0]:, [0]]\n",
    "y_predicted = df_test.iloc[-test.shape[0]:, [1]]\n",
    "\n",
    "pred_actual_rmse = rmse(y_test, y_predicted)\n",
    "pred_actual_mse = mse(y_test, y_predicted)\n",
    "pred_actual_mae = meanabs(y_test, y_predicted)\n",
    "pred_actual_mape = MAPE(y_test.values, y_predicted.values)\n",
    "\n",
    "\n",
    "print(\"RMSE: %f\" % pred_actual_rmse)\n",
    "print(\"MSE: %f\" % pred_actual_mse)\n",
    "print(\"MAE: %f\" % pred_actual_mae)\n",
    "print(\"MAPE: %f\" % pred_actual_mape)"
   ],
   "metadata": {
    "collapsed": false
   },
   "id": "7e35a9af07628ac3"
  }
 ],
 "metadata": {
  "kernelspec": {
   "display_name": "Python 3",
   "language": "python",
   "name": "python3"
  },
  "language_info": {
   "codemirror_mode": {
    "name": "ipython",
    "version": 2
   },
   "file_extension": ".py",
   "mimetype": "text/x-python",
   "name": "python",
   "nbconvert_exporter": "python",
   "pygments_lexer": "ipython2",
   "version": "2.7.6"
  }
 },
 "nbformat": 4,
 "nbformat_minor": 5
}
